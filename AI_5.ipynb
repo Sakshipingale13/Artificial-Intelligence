{
  "nbformat": 4,
  "nbformat_minor": 0,
  "metadata": {
    "colab": {
      "provenance": [],
      "authorship_tag": "ABX9TyOqLbzow5DBy1WryC1QVHof",
      "include_colab_link": true
    },
    "kernelspec": {
      "name": "python3",
      "display_name": "Python 3"
    },
    "language_info": {
      "name": "python"
    }
  },
  "cells": [
    {
      "cell_type": "markdown",
      "metadata": {
        "id": "view-in-github",
        "colab_type": "text"
      },
      "source": [
        "<a href=\"https://colab.research.google.com/github/Sakshipingale13/Artificial-Intelligence/blob/main/AI_5.ipynb\" target=\"_parent\"><img src=\"https://colab.research.google.com/assets/colab-badge.svg\" alt=\"Open In Colab\"/></a>"
      ]
    },
    {
      "cell_type": "code",
      "source": [
        "import random  # Import the random module to generate random greetings and farewells\n",
        "\n",
        "# Define a list of greetings\n",
        "Greetings = [\"Hello, Shree Swami Samarth\"]\n",
        "\n",
        "# Define a list of farewell messages\n",
        "Farewell_messages = [\"By, Take Care\"]\n",
        "\n",
        "# Define a function to greet the user\n",
        "def greet():\n",
        "    print(random.choice(Greetings))  # Print a random greeting from the Greetings list\n",
        "\n",
        "# Define a function to ask the user's name\n",
        "def ask_name():\n",
        "    name = input(\"What is your good name? \")  # Prompt the user to enter their name\n",
        "    print(f\"Nice to meet you, {name}.\")  # Print a personalized greeting with the user's name\n",
        "\n",
        "# Define a function to handle user queries\n",
        "def handle_query():\n",
        "    while True:\n",
        "        query = input(\"What can I assist you with? (Type 'by' to end the conversation) \")  # Prompt the user for a query\n",
        "        if query.lower() == \"by\":  # If the user types 'by' (case-insensitive), exit the loop\n",
        "            break\n",
        "        else:\n",
        "            print(\"I'm new, still I am learning.\")  # Otherwise, print a message indicating that the bot is still learning\n",
        "\n",
        "# Define a function to bid farewell to the user\n",
        "def farewell():\n",
        "    print(random.choice(Farewell_messages))  # Print a random farewell message from the Farewell_messages list\n",
        "\n",
        "# Define the main function to run the chatbot\n",
        "def main():\n",
        "    greet()  # Call the greet function to greet the user\n",
        "    ask_name()  # Call the ask_name function to ask for the user's name\n",
        "    handle_query()  # Call the handle_query function to interact with the user\n",
        "    farewell()  # Call the farewell function to bid farewell to the user\n",
        "\n",
        "# Check if the script is being run directly\n",
        "if __name__ == \"__main__\":\n",
        "    main()  # If the script is run directly, call the main function to start the chatbot"
      ],
      "metadata": {
        "colab": {
          "base_uri": "https://localhost:8080/"
        },
        "id": "evuEHGaonEjb",
        "outputId": "55810ae7-352f-476a-953c-ee998e5626ac"
      },
      "execution_count": null,
      "outputs": [
        {
          "output_type": "stream",
          "name": "stdout",
          "text": [
            "Hello, Shree Swami Samarth\n",
            "What is your good name? sakshi\n",
            "Nice to meet you, sakshi.\n",
            "What can I assist you with? (Type 'by' to end the conversation) by\n",
            "By, Take Care\n"
          ]
        }
      ]
    },
    {
      "cell_type": "code",
      "source": [],
      "metadata": {
        "id": "pNgr0VqFnFrG"
      },
      "execution_count": null,
      "outputs": []
    }
  ]
}