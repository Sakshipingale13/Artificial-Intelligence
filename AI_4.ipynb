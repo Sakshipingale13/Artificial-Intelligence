{
  "nbformat": 4,
  "nbformat_minor": 0,
  "metadata": {
    "colab": {
      "provenance": [],
      "authorship_tag": "ABX9TyN2YI6ZwO36Y/t76EkI8pHD",
      "include_colab_link": true
    },
    "kernelspec": {
      "name": "python3",
      "display_name": "Python 3"
    },
    "language_info": {
      "name": "python"
    }
  },
  "cells": [
    {
      "cell_type": "markdown",
      "metadata": {
        "id": "view-in-github",
        "colab_type": "text"
      },
      "source": [
        "<a href=\"https://colab.research.google.com/github/Sakshipingale13/Artificial-Intelligence/blob/main/AI_4.ipynb\" target=\"_parent\"><img src=\"https://colab.research.google.com/assets/colab-badge.svg\" alt=\"Open In Colab\"/></a>"
      ]
    },
    {
      "cell_type": "code",
      "source": [
        "N = int(input(\"Enter the number of queens\"))\n",
        "b = [[0] * N for i in range(N)]\n",
        "\n",
        "def isSafe(i, j):\n",
        "    for p in range(N):\n",
        "        if b[i][p] == 1 or b[p][j] == 1:\n",
        "            return False\n",
        "    for n in range(N):\n",
        "        for m in range(N):\n",
        "            if i + j == n + m or i - j == n - m:\n",
        "                if b[n][m] == 1:\n",
        "                    return False\n",
        "    return True\n",
        "def nqueen(noq):\n",
        "    if noq == 0:\n",
        "        return True\n",
        "    for i in range(N):\n",
        "        for j in range(N):\n",
        "            if b[i][j] != 1 and isSafe(i, j):\n",
        "                b[i][j] = 1\n",
        "                if nqueen(noq - 1) == True:\n",
        "                    return True\n",
        "                b[i][j] = 0\n",
        "    return False\n",
        "if nqueen(N):\n",
        "    for row in b:\n",
        "        print(row)\n",
        "else:\n",
        "    print(\"Cannot place queens\")\n"
      ],
      "metadata": {
        "colab": {
          "base_uri": "https://localhost:8080/"
        },
        "id": "evuEHGaonEjb",
        "outputId": "96f2c183-ed2a-4943-c1db-3b8479ffc7d4"
      },
      "execution_count": 6,
      "outputs": [
        {
          "output_type": "stream",
          "name": "stdout",
          "text": [
            "Enter the number of queens4\n",
            "[0, 1, 0, 0]\n",
            "[0, 0, 0, 1]\n",
            "[1, 0, 0, 0]\n",
            "[0, 0, 1, 0]\n"
          ]
        }
      ]
    },
    {
      "cell_type": "code",
      "source": [
        "\n"
      ],
      "metadata": {
        "id": "pNgr0VqFnFrG"
      },
      "execution_count": null,
      "outputs": []
    }
  ]
}