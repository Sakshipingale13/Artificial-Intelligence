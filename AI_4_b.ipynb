{
  "nbformat": 4,
  "nbformat_minor": 0,
  "metadata": {
    "colab": {
      "provenance": [],
      "authorship_tag": "ABX9TyOo6R9YCBdOOV/Y7kyhCQS5",
      "include_colab_link": true
    },
    "kernelspec": {
      "name": "python3",
      "display_name": "Python 3"
    },
    "language_info": {
      "name": "python"
    }
  },
  "cells": [
    {
      "cell_type": "markdown",
      "metadata": {
        "id": "view-in-github",
        "colab_type": "text"
      },
      "source": [
        "<a href=\"https://colab.research.google.com/github/Sakshipingale13/Artificial-Intelligence/blob/main/AI_4_b.ipynb\" target=\"_parent\"><img src=\"https://colab.research.google.com/assets/colab-badge.svg\" alt=\"Open In Colab\"/></a>"
      ]
    },
    {
      "cell_type": "code",
      "source": [
        "\n",
        "def is_safe(v, graph, color, c):\n",
        "    for i in range(len(graph)):\n",
        "        if graph[v][i] == 1 and color[i] == c:\n",
        "            return False\n",
        "    return True\n",
        "def graph_coloring_util(graph, m, color, v):\n",
        "    if v == len(graph):\n",
        "        return True\n",
        "    for c in range(1, m+1):\n",
        "        if is_safe(v, graph, color, c):\n",
        "            color[v] = c\n",
        "            if graph_coloring_util(graph, m, color, v+1):\n",
        "                return True\n",
        "            color[v] = 0\n",
        "    return False\n",
        "def graph_coloring(graph, m):\n",
        "    color = [0] * len(graph)\n",
        "    if not graph_coloring_util(graph, m, color, 0):\n",
        "        print(\"Solution does not exist\")\n",
        "        return False\n",
        "    print(\"Solution exists. The assigned colors are:\")\n",
        "    for c in color:\n",
        "        print(c, end=\" \")\n",
        "    return True\n",
        "# Get input from the user\n",
        "num_nodes = int(input(\"Enter the number of nodes: \"))\n",
        "num_colors = int(input(\"Enter the number of colors: \"))\n",
        "# Get adjacency matrix input from the user\n",
        "print(\"Enter the adjacency matrix:\")\n",
        "graph = []\n",
        "for i in range(num_nodes):\n",
        "    row = list(map(int, input().split()))\n",
        "    graph.append(row)\n",
        "\n",
        "# Solve graph coloring problem\n",
        "graph_coloring(graph, num_colors)"
      ],
      "metadata": {
        "colab": {
          "base_uri": "https://localhost:8080/"
        },
        "id": "fogkax6E8JDU",
        "outputId": "6efb16d0-4e35-4b53-ff30-4d06ff1827a6"
      },
      "execution_count": 1,
      "outputs": [
        {
          "output_type": "stream",
          "name": "stdout",
          "text": [
            "Enter the number of nodes: 5\n",
            "Enter the number of colors: 3\n",
            "Enter the adjacency matrix:\n",
            "1 1 0 1 1\n",
            "1 1 1 1 1\n",
            "0 0 0 1 0\n",
            "1 0 0 1 1\n",
            "1 1 1 0 1 \n",
            "Solution exists. The assigned colors are:\n",
            "1 2 1 2 3 "
          ]
        },
        {
          "output_type": "execute_result",
          "data": {
            "text/plain": [
              "True"
            ]
          },
          "metadata": {},
          "execution_count": 1
        }
      ]
    }
  ]
}